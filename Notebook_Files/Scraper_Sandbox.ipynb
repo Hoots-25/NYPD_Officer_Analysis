{
 "cells": [
  {
   "cell_type": "code",
   "execution_count": 1,
   "metadata": {},
   "outputs": [],
   "source": [
    "# Import Dependencies\n",
    "\n",
    "from bs4 import BeautifulSoup\n",
    "from selenium import webdriver\n",
    "from selenium.webdriver.common.keys import Keys\n",
    "import pandas as pd\n",
    "import numpy as np\n",
    "import urllib.request, urllib.error\n",
    "import csv\n",
    "import time\n",
    "import regex as re\n",
    "from string import ascii_uppercase\n"
   ]
  },
  {
   "cell_type": "code",
   "execution_count": 79,
   "metadata": {},
   "outputs": [],
   "source": [
    "# Access Website: https://nypdonline.org/link/2\n",
    "\n",
    "url = \"https://nypdonline.org/link/2\" # NYPD Base URL\n",
    "html = urllib.request.urlopen(url) # Open the page\n",
    "\n",
    "soup = BeautifulSoup(html,'html.parser') # Get soup\n",
    "# print(soup.prettify()) # Check to see if we have the soup\n"
   ]
  },
  {
   "cell_type": "code",
   "execution_count": 2,
   "metadata": {},
   "outputs": [],
   "source": [
    "# Open up table html\n",
    "url = \"https://oip.nypdonline.org/view/1004/@SearchName=SEARCH_FILTER_VALUE&@LastNameFirstLetter=A//%7B%22hideMobileMenu%22:true%7D/true/true\"\n",
    "driver = webdriver.Chrome()\n",
    "driver.get(url) # Go to NYPD page\n",
    "time.sleep(10)"
   ]
  },
  {
   "cell_type": "code",
   "execution_count": 197,
   "metadata": {},
   "outputs": [
    {
     "name": "stdout",
     "output_type": "stream",
     "text": [
      "2\n"
     ]
    }
   ],
   "source": [
    "# Need to loop td[1] through td[7]\n",
    "name = driver.find_elements_by_xpath('/html/body/section/div/div/section/div/div/div[2]/div/div/report-wrapper/report/div/div/div[2]/div/div/div[2]/table/tbody/tr[1]/td[7]')\n",
    "print(name[0].text)"
   ]
  },
  {
   "cell_type": "code",
   "execution_count": 16,
   "metadata": {},
   "outputs": [],
   "source": [
    "# Get the basic data for each police officer per page\n",
    "officer_name = []\n",
    "officer_rank = []\n",
    "officer_command = []\n",
    "officer_shield = []\n",
    "officer_appt_date = []\n",
    "officer_arrests_total = []\n",
    "officer_dept_rcgntn = []\n",
    "\n",
    "# Make this into a function to call for each page\n",
    "for i in range (1,100):\n",
    "    officer_name.append(driver.find_element_by_xpath(f\"/html/body/section/div/div/section/div/div/div[2]/div/div/report-wrapper/report/div/div/div[2]/div/div/div[2]/table/tbody/tr[{i}]/td[1]\").text)\n",
    "    officer_rank.append(driver.find_element_by_xpath(f\"/html/body/section/div/div/section/div/div/div[2]/div/div/report-wrapper/report/div/div/div[2]/div/div/div[2]/table/tbody/tr[{i}]/td[2]\").text)\n",
    "    officer_command.append(driver.find_element_by_xpath(f\"/html/body/section/div/div/section/div/div/div[2]/div/div/report-wrapper/report/div/div/div[2]/div/div/div[2]/table/tbody/tr[{i}]/td[3]\").text)\n",
    "    officer_shield.append(driver.find_element_by_xpath(f\"/html/body/section/div/div/section/div/div/div[2]/div/div/report-wrapper/report/div/div/div[2]/div/div/div[2]/table/tbody/tr[{i}]/td[4]\").text)\n",
    "    officer_appt_date.append(driver.find_element_by_xpath(f\"/html/body/section/div/div/section/div/div/div[2]/div/div/report-wrapper/report/div/div/div[2]/div/div/div[2]/table/tbody/tr[{i}]/td[5]\").text)\n",
    "    officer_arrests_total.append(driver.find_element_by_xpath(f\"/html/body/section/div/div/section/div/div/div[2]/div/div/report-wrapper/report/div/div/div[2]/div/div/div[2]/table/tbody/tr[{i}]/td[6]\").text)\n",
    "    officer_dept_rcgntn.append(driver.find_element_by_xpath(f\"/html/body/section/div/div/section/div/div/div[2]/div/div/report-wrapper/report/div/div/div[2]/div/div/div[2]/table/tbody/tr[{i}]/td[7]\").text)\n",
    "    "
   ]
  },
  {
   "cell_type": "code",
   "execution_count": null,
   "metadata": {},
   "outputs": [],
   "source": [
    "# Make this into a function to call for each page\n",
    "for i in range (1,100):\n",
    "    officer_name.append(driver.find_element_by_xpath(f\"/html/body/section/div/div/section/div/div/div[2]/div/div/report-wrapper/report/div/div/div[2]/div/div/div[2]/table/tbody/tr[{i}]/td[1]\").text)\n",
    "    officer_rank.append(driver.find_element_by_xpath(f\"/html/body/section/div/div/section/div/div/div[2]/div/div/report-wrapper/report/div/div/div[2]/div/div/div[2]/table/tbody/tr[{i}]/td[2]\").text)\n",
    "    officer_command.append(driver.find_element_by_xpath(f\"/html/body/section/div/div/section/div/div/div[2]/div/div/report-wrapper/report/div/div/div[2]/div/div/div[2]/table/tbody/tr[{i}]/td[3]\").text)\n",
    "    officer_shield.append(driver.find_element_by_xpath(f\"/html/body/section/div/div/section/div/div/div[2]/div/div/report-wrapper/report/div/div/div[2]/div/div/div[2]/table/tbody/tr[{i}]/td[4]\").text)\n",
    "    officer_appt_date.append(driver.find_element_by_xpath(f\"/html/body/section/div/div/section/div/div/div[2]/div/div/report-wrapper/report/div/div/div[2]/div/div/div[2]/table/tbody/tr[{i}]/td[5]\").text)\n",
    "    officer_arrests_total.append(driver.find_element_by_xpath(f\"/html/body/section/div/div/section/div/div/div[2]/div/div/report-wrapper/report/div/div/div[2]/div/div/div[2]/table/tbody/tr[{i}]/td[6]\").text)\n",
    "    officer_dept_rcgntn.append(driver.find_element_by_xpath(f\"/html/body/section/div/div/section/div/div/div[2]/div/div/report-wrapper/report/div/div/div[2]/div/div/div[2]/table/tbody/tr[{i}]/td[7]\").text)\n",
    "    "
   ]
  },
  {
   "cell_type": "code",
   "execution_count": 20,
   "metadata": {},
   "outputs": [],
   "source": [
    "dict = {\"Officer Name\": officer_name, \"Rank\": officer_rank, \"Command\": officer_command, \"Shield\": officer_shield, \"Appointed Date\": officer_appt_date,\n",
    "        \"Total Arrests\": officer_arrests_total,\"Department Recognitions\": officer_dept_rcgntn}\n",
    "df = pd.DataFrame(dict)\n",
    "df.head()\n",
    "path = \"../output.csv\"\n",
    "df.to_csv(path)"
   ]
  },
  {
   "cell_type": "code",
   "execution_count": 11,
   "metadata": {},
   "outputs": [
    {
     "name": "stdout",
     "output_type": "stream",
     "text": [
      "['1701', '1800', '1,843']\n",
      "1843\n",
      "<class 'int'>\n",
      "18\n"
     ]
    }
   ],
   "source": [
    "# Figure out how many times to loop\n",
    "# Create this into a function to call this whenever you go to a new letter of the the last name\n",
    "\n",
    "pager_info = driver.find_element_by_xpath(\"/html/body/section/div/div/section/div/div/div[2]/div/div/report-wrapper/report/div/div/div[2]/div/div/div[3]/span\").text\n",
    "pager_info = re.findall(r'\\d+(?:,\\d+)?',f\"{pager_info}\")\n",
    "print(pager_info)\n",
    "num_rows = int(pager_info[-1].replace(',','')) # Remove the comma & turn the string to an integer\n",
    "print(num_rows)\n",
    "print(type(num_rows))\n",
    "\n",
    "num_clicks = (-(-num_rows//100)) - 1 # Knowing there are 100 entries/page, get number of clicks and round up and subtract 1\n",
    "print(num_clicks)\n"
   ]
  },
  {
   "cell_type": "code",
   "execution_count": 31,
   "metadata": {},
   "outputs": [],
   "source": [
    "# Click Next\n",
    "page_num = driver.find_element_by_xpath(\"/html/body/section/div/div/section/div/div/div[2]/div/div/report-wrapper/report/div/div/div[2]/div/div/div[3]/a[3]/span\")\n",
    "page_num.click()"
   ]
  },
  {
   "cell_type": "code",
   "execution_count": 32,
   "metadata": {},
   "outputs": [],
   "source": [
    "# Button Clicks\n",
    "open_name = driver.find_element_by_xpath('/html/body/section/div/div/section/div/div/div[2]/div/div/report-wrapper/report/div/div/div[2]/div/div/div[2]/table/tbody/tr[1]')\n",
    "open_name.click()\n"
   ]
  },
  {
   "cell_type": "code",
   "execution_count": 34,
   "metadata": {},
   "outputs": [],
   "source": [
    "open_name2 = driver.find_element_by_xpath(\"/html/body/section/div/div/section/div/div/div[2]/div/div/report-wrapper/report/div/div/div[2]/div/div/div[2]/table/tbody/tr[2]\")\n",
    "open_name2.click()"
   ]
  }
 ],
 "metadata": {
  "interpreter": {
   "hash": "1f068216085f198bb226bdbf9b56a1817f7f05159412c679606fa1524830a351"
  },
  "kernelspec": {
   "display_name": "Python 3.7.11 64-bit ('mlenv': conda)",
   "language": "python",
   "name": "python3"
  },
  "language_info": {
   "codemirror_mode": {
    "name": "ipython",
    "version": 3
   },
   "file_extension": ".py",
   "mimetype": "text/x-python",
   "name": "python",
   "nbconvert_exporter": "python",
   "pygments_lexer": "ipython3",
   "version": "3.8.8"
  },
  "orig_nbformat": 4
 },
 "nbformat": 4,
 "nbformat_minor": 2
}
