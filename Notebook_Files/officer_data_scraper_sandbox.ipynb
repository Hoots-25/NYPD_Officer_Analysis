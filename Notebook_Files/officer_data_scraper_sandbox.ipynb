{
 "cells": [
  {
   "cell_type": "markdown",
   "metadata": {},
   "source": [
    "# Scraper Outline\n",
    "* Open Main Page\n",
    "* Click on name\n",
    "* Pull Ethnicity\n",
    "* Pull Rank History\n",
    "* Click on button2\n",
    "* Count Rows\n",
    "* Pull Awards\n",
    "* Click Button 3\n",
    "* Count Rows\n",
    "* Pull Training"
   ]
  },
  {
   "cell_type": "code",
   "execution_count": 372,
   "metadata": {},
   "outputs": [],
   "source": [
    "# Import Dependencies\n",
    "\n",
    "from bs4 import BeautifulSoup\n",
    "from selenium import webdriver\n",
    "from selenium.webdriver.common.keys import Keys\n",
    "import pandas as pd\n",
    "import numpy as np\n",
    "import urllib.request, urllib.error\n",
    "import csv\n",
    "import time\n",
    "import regex as re\n",
    "from string import ascii_uppercase"
   ]
  },
  {
   "cell_type": "code",
   "execution_count": 373,
   "metadata": {},
   "outputs": [],
   "source": [
    "\n",
    "# Open initial site\n",
    "\n",
    "url = \"https://oip.nypdonline.org/view/1004/@SearchName=SEARCH_FILTER_VALUE&@LastNameFirstLetter=A//%7B%22hideMobileMenu%22:true%7D/true/true\"\n",
    "driver = webdriver.Chrome()\n",
    "driver.get(url) # Go to NYPD page\n"
   ]
  },
  {
   "cell_type": "code",
   "execution_count": 374,
   "metadata": {},
   "outputs": [],
   "source": [
    "# Open the Frame\n",
    "wrapper = driver.find_element_by_xpath(\"/html/body/section/div/div/section/div/div/div[2]/div/div/report-wrapper/report/div/div/div[2]/div/div/div[2]/table/tbody/tr[8]\")\n",
    "wrapper.click()\n",
    "time.sleep(5)\n",
    "new_frame = driver.find_element_by_tag_name(\"iframe\")"
   ]
  },
  {
   "cell_type": "code",
   "execution_count": 375,
   "metadata": {},
   "outputs": [],
   "source": [
    "# Switch to new driver\n",
    "driver.switch_to.frame(new_frame)"
   ]
  },
  {
   "cell_type": "code",
   "execution_count": 210,
   "metadata": {},
   "outputs": [
    {
     "name": "stdout",
     "output_type": "stream",
     "text": [
      "HISPANIC\n"
     ]
    }
   ],
   "source": [
    "# Get Ethnicity\n",
    "ethnicity = driver.find_element_by_xpath(\"/html/body/section/div/div/section/div/div/div[2]/div/div/div[1]/report-wrapper/report/div/div/div[2]/div/div[2]/div[2]/div/div[5]/div[2]\")\n",
    "print(ethnicity.text)"
   ]
  },
  {
   "cell_type": "code",
   "execution_count": 263,
   "metadata": {},
   "outputs": [
    {
     "data": {
      "text/html": [
       "<div>\n",
       "<style scoped>\n",
       "    .dataframe tbody tr th:only-of-type {\n",
       "        vertical-align: middle;\n",
       "    }\n",
       "\n",
       "    .dataframe tbody tr th {\n",
       "        vertical-align: top;\n",
       "    }\n",
       "\n",
       "    .dataframe thead th {\n",
       "        text-align: right;\n",
       "    }\n",
       "</style>\n",
       "<table border=\"1\" class=\"dataframe\">\n",
       "  <thead>\n",
       "    <tr style=\"text-align: right;\">\n",
       "      <th></th>\n",
       "      <th>Officer Name</th>\n",
       "      <th>Title</th>\n",
       "      <th>Effective Date</th>\n",
       "      <th>Shield Number</th>\n",
       "    </tr>\n",
       "  </thead>\n",
       "  <tbody>\n",
       "    <tr>\n",
       "      <th>0</th>\n",
       "      <td>ABBONDANDELO, BRIAN R</td>\n",
       "      <td>POLICE OFFICER</td>\n",
       "      <td>7/9/2014</td>\n",
       "      <td>15447</td>\n",
       "    </tr>\n",
       "  </tbody>\n",
       "</table>\n",
       "</div>"
      ],
      "text/plain": [
       "            Officer Name           Title Effective Date Shield Number\n",
       "0  ABBONDANDELO, BRIAN R  POLICE OFFICER       7/9/2014         15447"
      ]
     },
     "execution_count": 263,
     "metadata": {},
     "output_type": "execute_result"
    }
   ],
   "source": [
    "## RANK & SHIELD HISTORY\n",
    "# Click Button\n",
    "driver.find_element_by_xpath(\"/html/body/section/div/div/section/div/div/div[2]/div/div/div[2]/report-wrapper/report/div/report-header/div/span/span/button[1]\").click()\n",
    "time.sleep(3)\n",
    "\n",
    "# Get Rank & Shield History\n",
    "officer_name = []\n",
    "date = []\n",
    "title = []\n",
    "shield_no = []\n",
    "rows = int(len(driver.find_elements_by_xpath(\"/html/body/section/div/div/section/div/div/div[2]/div/div/div[2]/report-wrapper/report/div/div/div[2]/div/div/div[2]/table/tbody/tr\")))\n",
    "\n",
    "for row in range(1,rows + 1):\n",
    "    officer_name.append(driver.find_element_by_xpath(\"/html/body/section/div/div/section/div/div/div[2]/div/div/div[1]/report-wrapper/report/div/div/div[2]/div/div[1]\").text)\n",
    "    date.append(driver.find_element_by_xpath(f\"/html/body/section/div/div/section/div/div/div[2]/div/div/div[2]/report-wrapper/report/div/div/div[2]/div/div/div[2]/table/tbody/tr[{row}]/td[1]\").text)\n",
    "    title.append(driver.find_element_by_xpath(f\"/html/body/section/div/div/section/div/div/div[2]/div/div/div[2]/report-wrapper/report/div/div/div[2]/div/div/div[2]/table/tbody/tr[{row}]/td[2]\").text)\n",
    "    shield_no.append(driver.find_element_by_xpath(f\"/html/body/section/div/div/section/div/div/div[2]/div/div/div[2]/report-wrapper/report/div/div/div[2]/div/div/div[2]/table/tbody/tr[{row}]/td[3]\").text)\n",
    "\n",
    "# print(officer_name)\n",
    "# print(date)\n",
    "# print(title)\n",
    "# print(shield_no)\n",
    "\n",
    "rank_dict =  {\"Officer Name\": officer_name, \"Title\": title, \"Effective Date\": date, \"Shield Number\": shield_no}\n",
    "\n",
    "rank_df = pd.DataFrame(rank_dict)\n",
    "rank_df.head()\n"
   ]
  },
  {
   "cell_type": "code",
   "execution_count": 267,
   "metadata": {},
   "outputs": [
    {
     "name": "stdout",
     "output_type": "stream",
     "text": [
      "['ABBONDANDELO, BRIAN R', 'ABBONDANDELO, BRIAN R', 'ABBONDANDELO, BRIAN R']\n",
      "['4/2/2019', '1/28/2019', '6/5/2017']\n",
      "['EXCELLENT POLICE DUTY', 'EXCELLENT POLICE DUTY', 'EXCELLENT POLICE DUTY']\n"
     ]
    },
    {
     "data": {
      "text/html": [
       "<div>\n",
       "<style scoped>\n",
       "    .dataframe tbody tr th:only-of-type {\n",
       "        vertical-align: middle;\n",
       "    }\n",
       "\n",
       "    .dataframe tbody tr th {\n",
       "        vertical-align: top;\n",
       "    }\n",
       "\n",
       "    .dataframe thead th {\n",
       "        text-align: right;\n",
       "    }\n",
       "</style>\n",
       "<table border=\"1\" class=\"dataframe\">\n",
       "  <thead>\n",
       "    <tr style=\"text-align: right;\">\n",
       "      <th></th>\n",
       "      <th>Officer Name</th>\n",
       "      <th>Award Date</th>\n",
       "      <th>Award</th>\n",
       "    </tr>\n",
       "  </thead>\n",
       "  <tbody>\n",
       "    <tr>\n",
       "      <th>0</th>\n",
       "      <td>ABBONDANDELO, BRIAN R</td>\n",
       "      <td>4/2/2019</td>\n",
       "      <td>EXCELLENT POLICE DUTY</td>\n",
       "    </tr>\n",
       "    <tr>\n",
       "      <th>1</th>\n",
       "      <td>ABBONDANDELO, BRIAN R</td>\n",
       "      <td>1/28/2019</td>\n",
       "      <td>EXCELLENT POLICE DUTY</td>\n",
       "    </tr>\n",
       "    <tr>\n",
       "      <th>2</th>\n",
       "      <td>ABBONDANDELO, BRIAN R</td>\n",
       "      <td>6/5/2017</td>\n",
       "      <td>EXCELLENT POLICE DUTY</td>\n",
       "    </tr>\n",
       "  </tbody>\n",
       "</table>\n",
       "</div>"
      ],
      "text/plain": [
       "            Officer Name Award Date                  Award\n",
       "0  ABBONDANDELO, BRIAN R   4/2/2019  EXCELLENT POLICE DUTY\n",
       "1  ABBONDANDELO, BRIAN R  1/28/2019  EXCELLENT POLICE DUTY\n",
       "2  ABBONDANDELO, BRIAN R   6/5/2017  EXCELLENT POLICE DUTY"
      ]
     },
     "execution_count": 267,
     "metadata": {},
     "output_type": "execute_result"
    }
   ],
   "source": [
    "# Department Recgns & Awards\n",
    "# Click the button\n",
    "\n",
    "driver.find_element_by_xpath(\"/html/body/section/div/div/section/div/div/div[2]/div/div/div[2]/report-wrapper/report/div/report-header/div/span/span/button[2]\").click()\n",
    "time.sleep(2)\n",
    "\n",
    "officer_name = []\n",
    "date = []\n",
    "award = []\n",
    "rows = int(len(driver.find_elements_by_xpath(\"/html/body/section/div/div/section/div/div/div[2]/div/div/div[2]/report-wrapper/report/div/div/div[2]/div/div/div[2]/table/tbody/tr\")))\n",
    "\n",
    "try:\n",
    "    for row in range(1,rows + 1):\n",
    "        officer_name.append(driver.find_element_by_xpath(\"/html/body/section/div/div/section/div/div/div[2]/div/div/div[1]/report-wrapper/report/div/div/div[2]/div/div[1]\").text)\n",
    "        date.append(driver.find_element_by_xpath(f\"/html/body/section/div/div/section/div/div/div[2]/div/div/div[2]/report-wrapper/report/div/div/div[2]/div/div/div[2]/table/tbody/tr[{row}]/td[1]\").text)\n",
    "        award.append(driver.find_element_by_xpath(f\"/html/body/section/div/div/section/div/div/div[2]/div/div/div[2]/report-wrapper/report/div/div/div[2]/div/div/div[2]/table/tbody/tr[{row}]/td[2]\").text)\n",
    "        \n",
    "except:\n",
    "    print(\"No Recognitions\")\n",
    "\n",
    "print(officer_name)\n",
    "print(date)\n",
    "print(award)\n",
    "\n",
    "award_dict =  {\"Officer Name\": officer_name, \"Award Date\": date, \"Award\": award}\n",
    "\n",
    "award_df = pd.DataFrame(award_dict)\n",
    "award_df.head()\n",
    "\n"
   ]
  },
  {
   "cell_type": "code",
   "execution_count": 236,
   "metadata": {},
   "outputs": [
    {
     "name": "stdout",
     "output_type": "stream",
     "text": [
      "0\n"
     ]
    }
   ],
   "source": [
    "# Get Arrests Processed\n",
    "driver.find_element_by_xpath(\"/html/body/section/div/div/section/div/div/div[2]/div/div/div[2]/report-wrapper/report/div/report-header/div/span/span/button[5]\").click()\n",
    "time.sleep(2)\n",
    "arrests = driver.find_elements_by_xpath(\"/html/body/section/div/div/section/div/div/div[2]/div/div/div[2]/report-wrapper/report/div/div/div[2]/div/div/div[2]/table/tbody/tr\")\n",
    "\n",
    "print(len(arrests))\n"
   ]
  },
  {
   "cell_type": "code",
   "execution_count": 301,
   "metadata": {},
   "outputs": [
    {
     "name": "stdout",
     "output_type": "stream",
     "text": [
      "['ABBONDANDELO, BRIAN R', 'ABBONDANDELO, BRIAN R']\n",
      "['MISDEMEANOR', 'VIOLATION']\n",
      "['51', '1']\n"
     ]
    },
    {
     "data": {
      "text/html": [
       "<div>\n",
       "<style scoped>\n",
       "    .dataframe tbody tr th:only-of-type {\n",
       "        vertical-align: middle;\n",
       "    }\n",
       "\n",
       "    .dataframe tbody tr th {\n",
       "        vertical-align: top;\n",
       "    }\n",
       "\n",
       "    .dataframe thead th {\n",
       "        text-align: right;\n",
       "    }\n",
       "</style>\n",
       "<table border=\"1\" class=\"dataframe\">\n",
       "  <thead>\n",
       "    <tr style=\"text-align: right;\">\n",
       "      <th></th>\n",
       "      <th>Officer Name</th>\n",
       "      <th>Classification</th>\n",
       "      <th>Total Arrests</th>\n",
       "    </tr>\n",
       "  </thead>\n",
       "  <tbody>\n",
       "    <tr>\n",
       "      <th>0</th>\n",
       "      <td>ABBONDANDELO, BRIAN R</td>\n",
       "      <td>MISDEMEANOR</td>\n",
       "      <td>51</td>\n",
       "    </tr>\n",
       "    <tr>\n",
       "      <th>1</th>\n",
       "      <td>ABBONDANDELO, BRIAN R</td>\n",
       "      <td>VIOLATION</td>\n",
       "      <td>1</td>\n",
       "    </tr>\n",
       "  </tbody>\n",
       "</table>\n",
       "</div>"
      ],
      "text/plain": [
       "            Officer Name Classification Total Arrests\n",
       "0  ABBONDANDELO, BRIAN R    MISDEMEANOR            51\n",
       "1  ABBONDANDELO, BRIAN R      VIOLATION             1"
      ]
     },
     "execution_count": 301,
     "metadata": {},
     "output_type": "execute_result"
    }
   ],
   "source": [
    "# Click Button\n",
    "driver.find_element_by_xpath(\"/html/body/section/div/div/section/div/div/div[2]/div/div/div[2]/report-wrapper/report/div/report-header/div/span/span/button[5]\").click()\n",
    "time.sleep(4)\n",
    "\n",
    "# Get Length of rows of table\n",
    "rows = len(driver.find_elements_by_xpath(\"/html/body/section/div/div/section/div/div/div[2]/div/div/div[2]/report-wrapper/report/div/div/div[2]/div/div/div[2]/table/tbody/tr\"))\n",
    "\n",
    "type = []\n",
    "amount = []\n",
    "officer_name = []\n",
    "\n",
    "for row in (1, rows):\n",
    "    officer_name.append(driver.find_element_by_xpath(\"/html/body/section/div/div/section/div/div/div[2]/div/div/div[1]/report-wrapper/report/div/div/div[2]/div/div[1]\").text)\n",
    "    type.append(driver.find_element_by_xpath(f\"/html/body/section/div/div/section/div/div/div[2]/div/div/div[2]/report-wrapper/report/div/div/div[2]/div/div/div[2]/table/tbody/tr[{row}]/td[1]\").text)\n",
    "    amount.append(driver.find_element_by_xpath(f\"/html/body/section/div/div/section/div/div/div[2]/div/div/div[2]/report-wrapper/report/div/div/div[2]/div/div/div[2]/table/tbody/tr[{row}]/td[2]\").text)\n",
    "\n",
    "print(officer_name)\n",
    "print(type)\n",
    "print(amount)\n",
    "\n",
    "arrests_dict =  {\"Officer Name\": officer_name, \"Classification\": type, \"Total Arrests\": amount}\n",
    "\n",
    "arrests_df = pd.DataFrame(arrests_dict)\n",
    "arrests_df.head()\n",
    "\n"
   ]
  },
  {
   "cell_type": "code",
   "execution_count": null,
   "metadata": {},
   "outputs": [
    {
     "name": "stdout",
     "output_type": "stream",
     "text": [
      "\n"
     ]
    }
   ],
   "source": [
    "# Get Diciplinary History\n",
    "driver.find_element_by_xpath(\"/html/body/section/div/div/section/div/div/div[2]/div/div/div[2]/report-wrapper/report/div/report-header/div/span/span/button[4]\").click()\n",
    "time.sleep(2)\n",
    "disc = driver.find_element_by_xpath(\"/html/body/section/div/div/section/div/div/div[2]/div/div/div[2]/report-wrapper/report/div/div/div[2]/div/div/div[2]/table\")\n",
    "\n",
    "print(disc.text)"
   ]
  },
  {
   "cell_type": "code",
   "execution_count": null,
   "metadata": {},
   "outputs": [],
   "source": [
    "# Get Documents\n",
    "driver.find_element_by_xpath(\"/html/body/section/div/div/section/div/div/div[2]/div/div/div[2]/report-wrapper/report/div/report-header/div/span/span/button[6]\").click()\n",
    "time.sleep(2)\n",
    "docs = driver.find_element_by_xpath(\"/html/body/section/div/div/section/div/div/div[2]/div/div/div[2]/report-wrapper/report/div/div/div[2]/div/div/div[2]/table\")\n",
    "\n",
    "print(docs.text)"
   ]
  },
  {
   "cell_type": "code",
   "execution_count": 376,
   "metadata": {},
   "outputs": [
    {
     "data": {
      "text/plain": [
       "241"
      ]
     },
     "execution_count": 376,
     "metadata": {},
     "output_type": "execute_result"
    }
   ],
   "source": [
    "# Get Training Summary\n",
    "# Click the button\n",
    "driver.find_element_by_xpath(\"/html/body/section/div/div/section/div/div/div[2]/div/div/div[2]/report-wrapper/report/div/report-header/div/span/span/button[3]\").click()\n",
    "time.sleep(2)\n",
    "\n",
    "date = []\n",
    "training = []\n",
    "officer_name = []\n",
    "\n",
    "# Get Number of clicks\n",
    "pager_info = driver.find_element_by_xpath(\"/html/body/section/div/div/section/div/div/div[2]/div/div/div[2]/report-wrapper/report/div/div/div[2]/div/div/div[3]/span\").text\n",
    "pager_info = re.findall(r'\\d+(?:,\\d+)?',f\"{pager_info}\") # Regex to isolate the numbers\n",
    "num_rows = int(pager_info[-1].replace(',','')) # Take the last value, remove the comma & turn the string to an integer\n",
    "num_clicks = (-(-num_rows//100)) - 1 # Knowing there are 100 entries/page, get number of clicks and round up and subtract 1\n",
    "\n",
    "for click in range(1,num_clicks + 2):\n",
    "    # Get Num Rows\n",
    "    pager_info = driver.find_element_by_xpath(\"/html/body/section/div/div/section/div/div/div[2]/div/div/div[2]/report-wrapper/report/div/div/div[2]/div/div/div[3]/span\").text\n",
    "    # pager_info = driver.find_element_by_xpath(\"/html/body/section/div/div/section/div/div/div[2]/div/div/div[2]/report-wrapper/report/div/div[2]/div[2]/div/div/div/div/div/div/div[3]/span\").text\n",
    "    pager_info = re.findall(r'\\d+(?:,\\d+)?',f\"{pager_info}\")\n",
    "    beg = int(pager_info[0])\n",
    "    end = int(pager_info[1])\n",
    "    items = end - beg + 1\n",
    "\n",
    "    for item in range(1,items + 1):\n",
    "        # Get Training\n",
    "        officer_name.append(driver.find_element_by_xpath(\"/html/body/section/div/div/section/div/div/div[2]/div/div/div[1]/report-wrapper/report/div/div/div[2]/div/div[1]\").text)\n",
    "        date.append(driver.find_element_by_xpath(f\"/html/body/section/div/div/section/div/div/div[2]/div/div/div[2]/report-wrapper/report/div/div/div[2]/div/div/div[2]/table/tbody/tr[{item}]/td[1]\").text)\n",
    "        training.append(driver.find_element_by_xpath(f\"/html/body/section/div/div/section/div/div/div[2]/div/div/div[2]/report-wrapper/report/div/div/div[2]/div/div/div[2]/table/tbody/tr[{item}]/td[2]\").text)\n",
    "\n",
    "    if click < num_clicks + 1:\n",
    "        # Go to next page\n",
    "        driver.find_element_by_xpath(\"/html/body/section/div/div/section/div/div/div[2]/div/div/div[2]/report-wrapper/report/div/div/div[2]/div/div/div[3]/a[3]\").click()\n",
    "        time.sleep(2)\n",
    "    else:\n",
    "        end  \n",
    "        \n",
    "#print(officer_name)\n",
    "#print(date)\n",
    "#print(training)\n",
    "training_results = [officer_name, date, training]\n",
    "\n",
    "training_dict = {\"Officer Name\": officer_name, \"Date\": date, \"Training\": training}\n",
    "training_df = pd.DataFrame(training_dict)\n",
    "training_df.head()\n",
    "len(training_df)\n",
    "\n"
   ]
  },
  {
   "cell_type": "code",
   "execution_count": 377,
   "metadata": {},
   "outputs": [
    {
     "data": {
      "text/html": [
       "<div>\n",
       "<style scoped>\n",
       "    .dataframe tbody tr th:only-of-type {\n",
       "        vertical-align: middle;\n",
       "    }\n",
       "\n",
       "    .dataframe tbody tr th {\n",
       "        vertical-align: top;\n",
       "    }\n",
       "\n",
       "    .dataframe thead th {\n",
       "        text-align: right;\n",
       "    }\n",
       "</style>\n",
       "<table border=\"1\" class=\"dataframe\">\n",
       "  <thead>\n",
       "    <tr style=\"text-align: right;\">\n",
       "      <th></th>\n",
       "      <th>Officer Name</th>\n",
       "      <th>Date</th>\n",
       "      <th>Training</th>\n",
       "    </tr>\n",
       "  </thead>\n",
       "  <tbody>\n",
       "    <tr>\n",
       "      <th>0</th>\n",
       "      <td>ABADIR, MINA E</td>\n",
       "      <td>4/6/2022</td>\n",
       "      <td>CLT-PROCEDURAL OPERATIONS</td>\n",
       "    </tr>\n",
       "    <tr>\n",
       "      <th>1</th>\n",
       "      <td>ABADIR, MINA E</td>\n",
       "      <td>4/6/2022</td>\n",
       "      <td>INTEGRATING COMMUNICATION, ASSESSMENT AND TACT...</td>\n",
       "    </tr>\n",
       "    <tr>\n",
       "      <th>2</th>\n",
       "      <td>ABADIR, MINA E</td>\n",
       "      <td>3/29/2022</td>\n",
       "      <td>CLT-BWC POLICY UPDATES</td>\n",
       "    </tr>\n",
       "    <tr>\n",
       "      <th>3</th>\n",
       "      <td>ABADIR, MINA E</td>\n",
       "      <td>3/18/2022</td>\n",
       "      <td>SERGEANTS DEVELOPMENT COURSE</td>\n",
       "    </tr>\n",
       "    <tr>\n",
       "      <th>4</th>\n",
       "      <td>ABADIR, MINA E</td>\n",
       "      <td>3/15/2022</td>\n",
       "      <td>INTEGRATING COMMUNICATION, ASSESSMENT AND TACT...</td>\n",
       "    </tr>\n",
       "    <tr>\n",
       "      <th>...</th>\n",
       "      <td>...</td>\n",
       "      <td>...</td>\n",
       "      <td>...</td>\n",
       "    </tr>\n",
       "    <tr>\n",
       "      <th>236</th>\n",
       "      <td>ABADIR, MINA E</td>\n",
       "      <td>4/12/2012</td>\n",
       "      <td>THREE WHEEL SCOOTER CERTIFIED</td>\n",
       "    </tr>\n",
       "    <tr>\n",
       "      <th>237</th>\n",
       "      <td>ABADIR, MINA E</td>\n",
       "      <td>1/9/2012</td>\n",
       "      <td>FOUR WHEEL DRIVE TRAINING</td>\n",
       "    </tr>\n",
       "    <tr>\n",
       "      <th>238</th>\n",
       "      <td>ABADIR, MINA E</td>\n",
       "      <td>1/9/2012</td>\n",
       "      <td>THREE WHEEL SCOOTER CERTIFIED</td>\n",
       "    </tr>\n",
       "    <tr>\n",
       "      <th>239</th>\n",
       "      <td>ABADIR, MINA E</td>\n",
       "      <td>1/9/2012</td>\n",
       "      <td>12 PASSENGER VAN / UTILITY VEHICLE QUALIFICATION</td>\n",
       "    </tr>\n",
       "    <tr>\n",
       "      <th>240</th>\n",
       "      <td>ABADIR, MINA E</td>\n",
       "      <td></td>\n",
       "      <td>TWO WHEEL SCOOTER (WITH TACTICS) CERTIFIED</td>\n",
       "    </tr>\n",
       "  </tbody>\n",
       "</table>\n",
       "<p>241 rows × 3 columns</p>\n",
       "</div>"
      ],
      "text/plain": [
       "       Officer Name       Date  \\\n",
       "0    ABADIR, MINA E   4/6/2022   \n",
       "1    ABADIR, MINA E   4/6/2022   \n",
       "2    ABADIR, MINA E  3/29/2022   \n",
       "3    ABADIR, MINA E  3/18/2022   \n",
       "4    ABADIR, MINA E  3/15/2022   \n",
       "..              ...        ...   \n",
       "236  ABADIR, MINA E  4/12/2012   \n",
       "237  ABADIR, MINA E   1/9/2012   \n",
       "238  ABADIR, MINA E   1/9/2012   \n",
       "239  ABADIR, MINA E   1/9/2012   \n",
       "240  ABADIR, MINA E              \n",
       "\n",
       "                                              Training  \n",
       "0                            CLT-PROCEDURAL OPERATIONS  \n",
       "1    INTEGRATING COMMUNICATION, ASSESSMENT AND TACT...  \n",
       "2                               CLT-BWC POLICY UPDATES  \n",
       "3                         SERGEANTS DEVELOPMENT COURSE  \n",
       "4    INTEGRATING COMMUNICATION, ASSESSMENT AND TACT...  \n",
       "..                                                 ...  \n",
       "236                      THREE WHEEL SCOOTER CERTIFIED  \n",
       "237                          FOUR WHEEL DRIVE TRAINING  \n",
       "238                      THREE WHEEL SCOOTER CERTIFIED  \n",
       "239   12 PASSENGER VAN / UTILITY VEHICLE QUALIFICATION  \n",
       "240         TWO WHEEL SCOOTER (WITH TACTICS) CERTIFIED  \n",
       "\n",
       "[241 rows x 3 columns]"
      ]
     },
     "execution_count": 377,
     "metadata": {},
     "output_type": "execute_result"
    }
   ],
   "source": [
    "training_df.head(end)"
   ]
  },
  {
   "cell_type": "code",
   "execution_count": 370,
   "metadata": {},
   "outputs": [],
   "source": [
    "# switch back to the previous content (YOU MUST DO THIS BEFORE CLOSING THE FRAME)\n",
    "driver.switch_to.default_content()"
   ]
  },
  {
   "cell_type": "code",
   "execution_count": 371,
   "metadata": {},
   "outputs": [
    {
     "name": "stdout",
     "output_type": "stream",
     "text": [
      "[<selenium.webdriver.remote.webelement.WebElement (session=\"5089deeb6209471ed1e9a3242b284bea\", element=\"a61ba7ad-37b8-4057-8489-772af9a0d14e\")>]\n"
     ]
    },
    {
     "ename": "IndexError",
     "evalue": "list index out of range",
     "output_type": "error",
     "traceback": [
      "\u001b[0;31m---------------------------------------------------------------------------\u001b[0m",
      "\u001b[0;31mIndexError\u001b[0m                                Traceback (most recent call last)",
      "\u001b[0;32m<ipython-input-371-922ea64d47ab>\u001b[0m in \u001b[0;36m<module>\u001b[0;34m\u001b[0m\n\u001b[1;32m      2\u001b[0m \u001b[0mclose_icon\u001b[0m \u001b[0;34m=\u001b[0m \u001b[0mdriver\u001b[0m\u001b[0;34m.\u001b[0m\u001b[0mfind_elements_by_class_name\u001b[0m\u001b[0;34m(\u001b[0m\u001b[0;34m\"icon-close\"\u001b[0m\u001b[0;34m)\u001b[0m\u001b[0;34m\u001b[0m\u001b[0;34m\u001b[0m\u001b[0m\n\u001b[1;32m      3\u001b[0m \u001b[0mprint\u001b[0m\u001b[0;34m(\u001b[0m\u001b[0mclose_icon\u001b[0m\u001b[0;34m)\u001b[0m\u001b[0;34m\u001b[0m\u001b[0;34m\u001b[0m\u001b[0m\n\u001b[0;32m----> 4\u001b[0;31m \u001b[0mclose_icon\u001b[0m\u001b[0;34m[\u001b[0m\u001b[0;36m1\u001b[0m\u001b[0;34m]\u001b[0m\u001b[0;34m.\u001b[0m\u001b[0mclick\u001b[0m\u001b[0;34m(\u001b[0m\u001b[0;34m)\u001b[0m\u001b[0;34m\u001b[0m\u001b[0;34m\u001b[0m\u001b[0m\n\u001b[0m",
      "\u001b[0;31mIndexError\u001b[0m: list index out of range"
     ]
    }
   ],
   "source": [
    "# Close the frame\n",
    "close_icon = driver.find_elements_by_class_name(\"icon-close\")\n",
    "print(close_icon)\n",
    "close_icon[1].click()"
   ]
  },
  {
   "cell_type": "code",
   "execution_count": null,
   "metadata": {},
   "outputs": [],
   "source": [
    "# Figure out how many times to loop\n",
    "# Create this into a function to call this whenever you go to a new letter of the the last name\n",
    "\n",
    "pager_info = driver.find_element_by_xpath(\"/html/body/section/div/div/section/div/div/div[2]/div/div/report-wrapper/report/div/div/div[2]/div/div/div[3]/span\").text\n",
    "pager_info = re.findall(r'\\d+(?:,\\d+)?',f\"{pager_info}\")\n",
    "beg = int(pager_info[0])\n",
    "end = int(pager_info[1])\n",
    "num_rows = end - beg + 1\n",
    "print(num_rows)"
   ]
  },
  {
   "cell_type": "code",
   "execution_count": 272,
   "metadata": {},
   "outputs": [],
   "source": [
    "# Click Next Page (Training Page)\n",
    "driver.find_element_by_xpath(\"/html/body/section/div/div/section/div/div/div[2]/div/div/div[2]/report-wrapper/report/div/div/div[2]/div/div/div[3]/a[3]\").click()\n"
   ]
  },
  {
   "cell_type": "code",
   "execution_count": 273,
   "metadata": {},
   "outputs": [
    {
     "name": "stdout",
     "output_type": "stream",
     "text": [
      "2\n"
     ]
    }
   ],
   "source": [
    "pager_info = driver.find_element_by_xpath(\"/html/body/section/div/div/section/div/div/div[2]/div/div/div[2]/report-wrapper/report/div/div/div[2]/div/div/div[3]/span\").text\n",
    "pager_info = re.findall(r'\\d+(?:,\\d+)?',f\"{pager_info}\") # Regex to isolate the numbers\n",
    "num_rows = int(pager_info[-1].replace(',','')) # Take the last value, remove the comma & turn the string to an integer\n",
    "num_clicks = (-(-num_rows//100)) - 1 # Knowing there are 100 entries/page, get number of clicks and round up and subtract 1\n",
    "print(num_clicks)"
   ]
  },
  {
   "cell_type": "code",
   "execution_count": 338,
   "metadata": {},
   "outputs": [
    {
     "name": "stdout",
     "output_type": "stream",
     "text": [
      "[['PABON, ELIEZER'], ['1/31/2015'], ['1'], ['0']]\n"
     ]
    }
   ],
   "source": [
    "# Click on Diciplinary History\n",
    "driver.find_element_by_xpath(\"/html/body/section/div/div/section/div/div/div[2]/div/div/div[2]/report-wrapper/report/div/report-header/div/span/span/button[4]\").click()\n",
    "officer_name = []\n",
    "date = []\n",
    "charges = []\n",
    "allegations = []\n",
    "\n",
    "try:\n",
    "    officer_name.append(driver.find_element_by_xpath(\"/html/body/section/div/div/section/div/div/div[2]/div/div/div[1]/report-wrapper/report/div/div/div[2]/div/div[1]\").text)\n",
    "    date.append(driver.find_element_by_xpath(\"/html/body/section/div/div/section/div/div/div[2]/div/div/div[2]/report-wrapper/report/div/div[2]/div[2]/div/div/div/div/div/div/div[2]/table/tbody/tr/td[1]\").text)\n",
    "    charges.append(driver.find_element_by_xpath(\"/html/body/section/div/div/section/div/div/div[2]/div/div/div[2]/report-wrapper/report/div/div[2]/div[2]/div/div/div/div/div/div/div[2]/table/tbody/tr/td[2]\").text)\n",
    "    allegations.append(driver.find_element_by_xpath(\"/html/body/section/div/div/section/div/div/div[2]/div/div/div[2]/report-wrapper/report/div/div[2]/div[2]/div/div/div/div/div/div/div[2]/table/tbody/tr/td[3]\").text)\n",
    "\n",
    "except:\n",
    "    print(\"No Diciplinary History\")\n",
    "\n",
    "print([officer_name,date,charges,allegations])"
   ]
  },
  {
   "cell_type": "code",
   "execution_count": 336,
   "metadata": {},
   "outputs": [],
   "source": [
    "def get_diciplinary_history(driver):\n",
    "        # Click on Diciplinary History\n",
    "        driver.find_element_by_xpath(\"/html/body/section/div/div/section/div/div/div[2]/div/div/div[2]/report-wrapper/report/div/report-header/div/span/span/button[4]\").click()\n",
    "        officer_name = []\n",
    "        date = []\n",
    "        charges = []\n",
    "        allegations = []\n",
    "\n",
    "        try:\n",
    "            officer_name.append(driver.find_element_by_xpath(\"/html/body/section/div/div/section/div/div/div[2]/div/div/div[1]/report-wrapper/report/div/div/div[2]/div/div[1]\").text)\n",
    "            date.append(driver.find_element_by_xpath(\"/html/body/section/div/div/section/div/div/div[2]/div/div/div[2]/report-wrapper/report/div/div[2]/div[2]/div/div/div/div/div/div/div[2]/table/tbody/tr/td[1]\").text)\n",
    "            charges.append(driver.find_element_by_xpath(\"/html/body/section/div/div/section/div/div/div[2]/div/div/div[2]/report-wrapper/report/div/div[2]/div[2]/div/div/div/div/div/div/div[2]/table/tbody/tr/td[2]\").text)\n",
    "            allegations.append(driver.find_element_by_xpath(\"/html/body/section/div/div/section/div/div/div[2]/div/div/div[2]/report-wrapper/report/div/div[2]/div[2]/div/div/div/div/div/div/div[2]/table/tbody/tr/td[3]\").text)\n",
    "\n",
    "        except:\n",
    "            print(\"No Diciplinary History\")\n",
    "\n",
    "        diciplinary_results = [officer_name,date,charges,allegations]\n",
    "\n",
    "        return diciplinary_results"
   ]
  },
  {
   "cell_type": "code",
   "execution_count": 345,
   "metadata": {},
   "outputs": [
    {
     "name": "stdout",
     "output_type": "stream",
     "text": [
      "No Diciplinary History\n",
      "[['PABON, NELSON'], [], [], []]\n"
     ]
    }
   ],
   "source": [
    "diciplinary_results = get_diciplinary_history(driver)\n",
    "print(diciplinary_results)"
   ]
  },
  {
   "cell_type": "code",
   "execution_count": 346,
   "metadata": {},
   "outputs": [],
   "source": [
    "def write_to_csv(results):\n",
    "    # Get Size\n",
    "    \n",
    "    # Create Dictionaries\n",
    "    ethnicity_dict = {\"Officer Name\": ethnicity_results[0][:], \"Ethnicity\": ethnicity_results[1][:]}\n",
    "    print(ethnicity_results)\n",
    "    \n",
    "    # Write to CSV\n",
    "        \n",
    "    return 0"
   ]
  },
  {
   "cell_type": "code",
   "execution_count": 353,
   "metadata": {},
   "outputs": [],
   "source": [
    "def get_ethnicity(driver):\n",
    "    ethnicity = driver.find_element_by_xpath(\"/html/body/section/div/div/section/div/div/div[2]/div/div/div[1]/report-wrapper/report/div/div/div[2]/div/div[2]/div[2]/div/div[5]/div[2]\").text\n",
    "    officer_name = driver.find_element_by_xpath(\"/html/body/section/div/div/section/div/div/div[2]/div/div/div[1]/report-wrapper/report/div/div/div[2]/div/div[1]\").text\n",
    "\n",
    "    ethnicity_results = [officer_name, ethnicity]\n",
    "    return ethnicity_results"
   ]
  },
  {
   "cell_type": "code",
   "execution_count": 354,
   "metadata": {},
   "outputs": [
    {
     "name": "stdout",
     "output_type": "stream",
     "text": [
      "['PABON, NELSON', 'HISPANIC']\n"
     ]
    }
   ],
   "source": [
    "ethnicity_results = get_ethnicity(driver)\n",
    "print(ethnicity_results)"
   ]
  },
  {
   "cell_type": "code",
   "execution_count": 363,
   "metadata": {},
   "outputs": [
    {
     "data": {
      "text/plain": [
       "13"
      ]
     },
     "execution_count": 363,
     "metadata": {},
     "output_type": "execute_result"
    }
   ],
   "source": [
    "len(ethnicity_results[0])"
   ]
  },
  {
   "cell_type": "code",
   "execution_count": null,
   "metadata": {},
   "outputs": [],
   "source": [
    "/html/body/section/div/div/section/div/div/div[2]/div/div/div[2]/report-wrapper/report/div/div[2]/div[2]/div/div/div/div/div/div/div[3]/span\n",
    "/html/body/section/div/div/section/div/div/div[2]/div/div/div[2]/report-wrapper/report/div/div[2]/div[2]/div/div/div/div/div/div/div[3]/span\n",
    "/html/body/section/div/div/section/div/div/div[2]/div/div/div[2]/report-wrapper/report/div/div/div[2]/div/div/div[3]/span\n",
    "/html/body/section/div/div/section/div/div/div[2]/div/div/div[2]/report-wrapper/report/div/div[2]/div[2]/div/div/div/div/div/div/div[3]/span\n",
    "/html/body/section/div/div/section/div/div/div[2]/div/div/div[2]/report-wrapper/report/div/div/div[2]/div/div/div[3]/span\n",
    "/html/body/section/div/div/section/div/div/div[2]/div/div/div[2]/report-wrapper/report/div/div[2]/div[2]/div/div/div/div/div/div/div[3]/span\n",
    "/html/body/section/div/div/section/div/div/div[2]/div/div/div[2]/report-wrapper/report/div/div[2]/div[2]/div/div/div/div/div/div/div[3]/span\n",
    "/html/body/section/div/div/section/div/div/div[2]/div/div/div[2]/report-wrapper/report/div/div[2]/div[2]/div/div/div/div/div/div/div[3]/span"
   ]
  },
  {
   "cell_type": "code",
   "execution_count": null,
   "metadata": {},
   "outputs": [],
   "source": []
  },
  {
   "cell_type": "code",
   "execution_count": null,
   "metadata": {},
   "outputs": [],
   "source": []
  }
 ],
 "metadata": {
  "interpreter": {
   "hash": "ec184eb6a58772c817d452c7c54dfa15aac0fc8f00038444f5e76e0e001984bf"
  },
  "kernelspec": {
   "display_name": "Python 3.8.8 ('base')",
   "language": "python",
   "name": "python3"
  },
  "language_info": {
   "codemirror_mode": {
    "name": "ipython",
    "version": 3
   },
   "file_extension": ".py",
   "mimetype": "text/x-python",
   "name": "python",
   "nbconvert_exporter": "python",
   "pygments_lexer": "ipython3",
   "version": "3.8.8"
  },
  "orig_nbformat": 4
 },
 "nbformat": 4,
 "nbformat_minor": 2
}
